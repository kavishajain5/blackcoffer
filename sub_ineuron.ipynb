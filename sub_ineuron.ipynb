{
  "nbformat": 4,
  "nbformat_minor": 0,
  "metadata": {
    "colab": {
      "provenance": [],
      "authorship_tag": "ABX9TyNcaHsd/eH+nCB0H60S9ny1",
      "include_colab_link": true
    },
    "kernelspec": {
      "name": "python3",
      "display_name": "Python 3"
    },
    "language_info": {
      "name": "python"
    }
  },
  "cells": [
    {
      "cell_type": "markdown",
      "metadata": {
        "id": "view-in-github",
        "colab_type": "text"
      },
      "source": [
        "<a href=\"https://colab.research.google.com/github/kavishajain5/Ineuron-Internship-/blob/main/sub_ineuron.ipynb\" target=\"_parent\"><img src=\"https://colab.research.google.com/assets/colab-badge.svg\" alt=\"Open In Colab\"/></a>"
      ]
    },
    {
      "cell_type": "code",
      "execution_count": null,
      "metadata": {
        "id": "WgD8x8Dps3-S"
      },
      "outputs": [],
      "source": [
        "%%writefile kaggle.json\n",
        "{\"username\":\"rushikeshdarge\",\"key\":\"*********************************\"}"
      ]
    },
    {
      "cell_type": "code",
      "source": [
        "! pip install kaggle\n",
        "! mkdir ~/.kaggle\n",
        "! cp kaggle.json ~/.kaggle/\n",
        "! chmod 600 ~/.kaggle/kaggle.json\n",
        "! kaggle competitions download -c learn-ai-bbc\n",
        "! unzip /content/learn-ai-bbc.zip"
      ],
      "metadata": {
        "id": "5K0ua23ntDoa"
      },
      "execution_count": null,
      "outputs": []
    },
    {
      "cell_type": "code",
      "source": [
        "import numpy as np\n",
        "import pandas as pd\n",
        "import matplotlib.pyplot as plt\n",
        "import seaborn as sb\n",
        "from tensorflow.keras.preprocessing.text import Tokenizer\n",
        "from tensorflow.keras.preprocessing.sequence import pad_sequences\n",
        "from tensorflow.keras.models import Sequential\n",
        "from tensorflow.keras.layers import Embedding, Dense, LSTM, SpatialDropout1D\n",
        "from sklearn.preprocessing import LabelEncoder\n",
        "from sklearn.model_selection import train_test_split\n",
        "from sklearn.metrics import classification_report, accuracy_score\n"
      ],
      "metadata": {
        "id": "aNv5zdlXws7c"
      },
      "execution_count": null,
      "outputs": []
    },
    {
      "cell_type": "code",
      "source": [
        "import re\n",
        "import nltk\n",
        "from nltk.stem.porter import PorterStemmer\n",
        "from nltk.stem import WordNetLemmatizer\n",
        "\n",
        "# Downloading necessary NLTK resources\n",
        "nltk.download('stopwords')\n",
        "stopwords = nltk.corpus.stopwords.words('english')\n",
        "stopwords[0:10]\n",
        "\n",
        "nltk.download('wordnet')\n",
        "nltk.download('omw-1.4')\n"
      ],
      "metadata": {
        "id": "I8ZFFkXRwrXq"
      },
      "execution_count": null,
      "outputs": []
    },
    {
      "cell_type": "code",
      "source": [
        "df = pd.read_csv('/content/BBC News Train.csv')\n",
        "df.head()"
      ],
      "metadata": {
        "id": "bd8MRLFPtMxk"
      },
      "execution_count": null,
      "outputs": []
    },
    {
      "cell_type": "code",
      "source": [
        "df.Category.value_counts()"
      ],
      "metadata": {
        "id": "q5JDHt0GtRc5"
      },
      "execution_count": null,
      "outputs": []
    },
    {
      "cell_type": "code",
      "source": [
        "df.isnull().sum()"
      ],
      "metadata": {
        "id": "7Duohw7jtVOH"
      },
      "execution_count": null,
      "outputs": []
    },
    {
      "cell_type": "markdown",
      "source": [
        "EDA"
      ],
      "metadata": {
        "id": "EDPqHMqst7Np"
      }
    },
    {
      "cell_type": "code",
      "source": [
        "categories = ['business', 'politics', 'entertainment', 'sport', 'tech']\n",
        "df['Category'] = df['Category'].replace(categories, [0, 1, 2, 3, 4])"
      ],
      "metadata": {
        "id": "W0IroglCt5dA"
      },
      "execution_count": null,
      "outputs": []
    },
    {
      "cell_type": "code",
      "source": [
        "wc_stopwords = set(STOPWORDS)\n",
        "\n",
        "business_data = df[df['Category'] == 0].Text\n",
        "wordcloud = WordCloud(stopwords = wc_stopwords, max_words = 200, background_color = 'white', width = 1200, height = 800).generate(\" \".join(business_data))\n",
        "plt.imshow(wordcloud, interpolation = 'bilinear')\n",
        "plt.title('WordCloud for Business News Articles\\n')\n",
        "plt.axis('off')\n",
        "plt.show()\n"
      ],
      "metadata": {
        "id": "ZMgHmmECt_gI"
      },
      "execution_count": null,
      "outputs": []
    },
    {
      "cell_type": "code",
      "source": [
        "education_data = df[df['Category'] == 1].Text\n",
        "wordcloud = WordCloud(stopwords = wc_stopwords, max_words = 200, background_color = 'white', width = 1200, height = 800).generate(\" \".join(education_data))\n",
        "plt.imshow(wordcloud, interpolation = 'bilinear')\n",
        "plt.title('WordCloud for Polical News Articles\\n')\n",
        "plt.axis('off')\n",
        "plt.show()\n"
      ],
      "metadata": {
        "id": "H1q1IQ7fuBkL"
      },
      "execution_count": null,
      "outputs": []
    },
    {
      "cell_type": "code",
      "source": [
        "entertainment_data = df[df['Category'] == 2].Text\n",
        "wordcloud = WordCloud(stopwords = wc_stopwords, max_words = 200, background_color = 'white', width = 1200, height = 800).generate(\" \".join(entertainment_data))\n",
        "plt.imshow(wordcloud, interpolation = 'bilinear')\n",
        "plt.title('WordCloud for Entertainment News Articles\\n')\n",
        "plt.axis('off')\n",
        "plt.show()\n"
      ],
      "metadata": {
        "id": "WpScpuMRuKA3"
      },
      "execution_count": null,
      "outputs": []
    },
    {
      "cell_type": "code",
      "source": [
        "sports_data = df[df['Category'] == 3].Text\n",
        "wordcloud = WordCloud(stopwords = wc_stopwords, max_words = 200, background_color = 'white', width = 1200, height = 800).generate(\" \".join(sports_data))\n",
        "plt.imshow(wordcloud, interpolation = 'bilinear')\n",
        "plt.title('WordCloud for Sports News Articles\\n')\n",
        "plt.axis('off')\n",
        "plt.show()\n"
      ],
      "metadata": {
        "id": "oYhB58iQuBbf"
      },
      "execution_count": null,
      "outputs": []
    },
    {
      "cell_type": "code",
      "source": [
        "technology_data = df[df['Category'] == 4].Text\n",
        "wordcloud = WordCloud(stopwords = wc_stopwords, max_words = 200, background_color = 'white', width = 1200, height = 800).generate(\" \".join(technology_data))\n",
        "plt.imshow(wordcloud, interpolation = 'bilinear')\n",
        "plt.title('WordCloud for Technology News Articles\\n')\n",
        "plt.axis('off')\n",
        "plt.show()\n"
      ],
      "metadata": {
        "id": "BB2ZDpqVuBRo"
      },
      "execution_count": null,
      "outputs": []
    },
    {
      "cell_type": "markdown",
      "source": [
        "Text preprocessing"
      ],
      "metadata": {
        "id": "IIBe3vwzwio4"
      }
    },
    {
      "cell_type": "code",
      "source": [
        "def chars(text):\n",
        "    return re.sub('[^A-Za-z0-9 ]+', '', text)\n",
        "\n",
        "def decontractions(phrase):\n",
        "    \"\"\"Decontracted takes text and converts contractions into their natural form.\"\"\"\n",
        "    phrase = re.sub(r\"won\\'t\", \"will not\", phrase)\n",
        "    phrase = re.sub(r\"can\\'t\", \"can not\", phrase)\n",
        "    phrase = re.sub(r\"won\\’t\", \"will not\", phrase)\n",
        "    phrase = re.sub(r\"can\\’t\", \"can not\", phrase)\n",
        "    phrase = re.sub(r\"n\\'t\", \" not\", phrase)\n",
        "    phrase = re.sub(r\"\\'re\", \" are\", phrase)\n",
        "    phrase = re.sub(r\"\\'s\", \" is\", phrase)\n",
        "    phrase = re.sub(r\"\\'d\", \" would\", phrase)\n",
        "    phrase = re.sub(r\"\\'ll\", \" will\", phrase)\n",
        "    phrase = re.sub(r\"\\'t\", \" not\", phrase)\n",
        "    phrase = re.sub(r\"\\'ve\", \" have\", phrase)\n",
        "    phrase = re.sub(r\"\\'m\", \" am\", phrase)\n",
        "    phrase = re.sub(r\"n\\’t\", \" not\", phrase)\n",
        "    phrase = re.sub(r\"\\’re\", \" are\", phrase)\n",
        "    phrase = re.sub(r\"\\’s\", \" is\", phrase)\n",
        "    phrase = re.sub(r\"\\’d\", \" would\", phrase)\n",
        "    phrase = re.sub(r\"\\’ll\", \" will\", phrase)\n",
        "    phrase = re.sub(r\"\\’t\", \" not\", phrase)\n",
        "    phrase = re.sub(r\"\\’ve\", \" have\", phrase)\n",
        "    phrase = re.sub(r\"\\’m\", \" am\", phrase)\n",
        "    return phrase\n",
        "\n",
        "def stopwords(text):\n",
        "    text = text.split(' ')\n",
        "    output = [i for i in text if i not in stopwords]\n",
        "    return ' '.join(output)\n",
        "def stemming(text):\n",
        "    text = text.split(' ')\n",
        "    stem_text = [porter_stemmer.stem(word) for word in text]\n",
        "    return ' '.join(stem_text)\n",
        "def lemmatizer(text):\n",
        "    text = text.split(' ')\n",
        "    lemm_text = [wordnet_lemmatizer.lemmatize(word) for word in text]\n",
        "    return ' '.join(lemm_text)\n",
        "\n",
        "def preprocessing(text_df):\n",
        "    text_df = text_df.apply(lambda x : chars(x))\n",
        "    text_df = text_df.apply(lambda x : x.lower())\n",
        "    text_df = text_df.apply(lambda x : decontractions(x))\n",
        "    text_df = text_df.apply(lambda x: remove_stopwords(x))\n",
        "    text_df = text_df.apply(lambda x: stemming(x))\n",
        "    text_df = text_df.apply(lambda x: lemmatizer(x))\n",
        "    return text_df\n"
      ],
      "metadata": {
        "id": "9enGJtZftksO"
      },
      "execution_count": null,
      "outputs": []
    },
    {
      "cell_type": "code",
      "source": [],
      "metadata": {
        "id": "4UEcM2aLzP6o"
      },
      "execution_count": null,
      "outputs": []
    }
  ]
}