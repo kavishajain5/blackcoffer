{
  "nbformat": 4,
  "nbformat_minor": 0,
  "metadata": {
    "colab": {
      "provenance": [],
      "authorship_tag": "ABX9TyNkHHPa6uoKD+m4fHdwRXAG",
      "include_colab_link": true
    },
    "kernelspec": {
      "name": "python3",
      "display_name": "Python 3"
    },
    "language_info": {
      "name": "python"
    }
  },
  "cells": [
    {
      "cell_type": "markdown",
      "metadata": {
        "id": "view-in-github",
        "colab_type": "text"
      },
      "source": [
        "<a href=\"https://colab.research.google.com/github/kavishajain5/Ineuron-Internship-/blob/main/Deployment.ipynb\" target=\"_parent\"><img src=\"https://colab.research.google.com/assets/colab-badge.svg\" alt=\"Open In Colab\"/></a>"
      ]
    },
    {
      "cell_type": "code",
      "source": [
        "!pip install gradio\n",
        "!pip install pickle"
      ],
      "metadata": {
        "id": "mLIe0JC6CDHH"
      },
      "execution_count": null,
      "outputs": []
    },
    {
      "cell_type": "code",
      "execution_count": null,
      "metadata": {
        "id": "Yi3O_X4UByaM"
      },
      "outputs": [],
      "source": [
        "import pickle\n",
        "import gradio as gr\n",
        "import re"
      ]
    },
    {
      "cell_type": "code",
      "source": [
        "# Load the saved models\n",
        "vectorizer = pickle.load(open('tfidf_vector.model', 'rb'))\n",
        "logistic_regression_model = pickle.load(open('logistic_regression.model', 'rb'))\n",
        "\n",
        "# Define preprocessing functions\n",
        "def only_alpha(text):\n",
        "    return re.sub('[^A-Za-z0-9 ]+', '', text)\n",
        "\n",
        "def decontractions(phrase):\n",
        "    phrase = re.sub(r\"won't\", \"will not\", phrase)\n",
        "    phrase = re.sub(r\"can't\", \"can not\", phrase)\n",
        "    # Add additional patterns as needed\n",
        "    return phrase\n",
        "\n",
        "def preprocess_text(text):\n",
        "    text = only_alpha(text)\n",
        "    text = text.lower()\n",
        "    text = decontractions(text)\n",
        "    # Additional preprocessing steps\n",
        "    return text\n",
        "\n",
        "# Define prediction function\n",
        "def predict_category(text):\n",
        "    preprocessed_text = preprocess_text(text)\n",
        "    vectorized_text = vectorizer.transform([preprocessed_text])\n",
        "    prediction = logistic_regression_model.predict(vectorized_text)\n",
        "    return prediction[0]\n",
        "\n"
      ],
      "metadata": {
        "id": "yLXJteKMB2P-"
      },
      "execution_count": null,
      "outputs": []
    },
    {
      "cell_type": "code",
      "source": [
        "# Set up Gradio interface\n",
        "iface = gr.Interface(fn=predict_category,\n",
        "                     inputs=gr.inputs.Textbox(lines=5, label=\"Enter News Text\"),\n",
        "                     outputs=\"text\",\n",
        "                     title=\"News Classification\",\n",
        "                     description=\"Enter text to classify it into one of the news categories.\")\n",
        "\n",
        "iface.launch()\n"
      ],
      "metadata": {
        "id": "FvEreZmpB5FL"
      },
      "execution_count": null,
      "outputs": []
    }
  ]
}